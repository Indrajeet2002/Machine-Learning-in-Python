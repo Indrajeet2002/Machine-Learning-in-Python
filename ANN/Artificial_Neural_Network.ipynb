{
  "nbformat": 4,
  "nbformat_minor": 0,
  "metadata": {
    "colab": {
      "provenance": []
    },
    "kernelspec": {
      "name": "python3",
      "display_name": "Python 3"
    },
    "language_info": {
      "name": "python"
    }
  },
  "cells": [
    {
      "cell_type": "code",
      "execution_count": 1,
      "metadata": {
        "id": "tYmiOqfQMha7",
        "colab": {
          "base_uri": "https://localhost:8080/"
        },
        "outputId": "957aadd5-855f-47a1-9910-01300f052bf4"
      },
      "outputs": [
        {
          "output_type": "stream",
          "name": "stdout",
          "text": [
            "Mounted at /content/drive\n"
          ]
        }
      ],
      "source": [
        "from google.colab import drive\n",
        "drive.mount('/content/drive')"
      ]
    },
    {
      "cell_type": "markdown",
      "source": [
        "Import the numpy, pandas and tensorflow libraries to work with arrays, matrices, and neural networks, respectively"
      ],
      "metadata": {
        "id": "ecX8YyDaPnrG"
      }
    },
    {
      "cell_type": "code",
      "source": [
        "import numpy as np\n",
        "import pandas as pd\n",
        "import tensorflow as tf"
      ],
      "metadata": {
        "id": "cUBWxZ5QMpM6"
      },
      "execution_count": 2,
      "outputs": []
    },
    {
      "cell_type": "code",
      "source": [
        "tf.__version__"
      ],
      "metadata": {
        "id": "UtBVB4EgM3PH",
        "colab": {
          "base_uri": "https://localhost:8080/",
          "height": 35
        },
        "outputId": "54ae5af3-e1b2-4c85-f3c5-171f5466d491"
      },
      "execution_count": 3,
      "outputs": [
        {
          "output_type": "execute_result",
          "data": {
            "text/plain": [
              "'2.14.0'"
            ],
            "application/vnd.google.colaboratory.intrinsic+json": {
              "type": "string"
            }
          },
          "metadata": {},
          "execution_count": 3
        }
      ]
    },
    {
      "cell_type": "markdown",
      "source": [
        "Import the dataset and create two vectors"
      ],
      "metadata": {
        "id": "HVkO1FDVD5aj"
      }
    },
    {
      "cell_type": "code",
      "source": [
        "dataset = pd.read_csv('/content/drive/My Drive/ANN/Churn_Modelling.csv')\n",
        "X = dataset.iloc[:, 3:-1].values\n",
        "y = dataset.iloc[:, -1].values"
      ],
      "metadata": {
        "id": "WQ3Jwwr8M51l"
      },
      "execution_count": 4,
      "outputs": []
    },
    {
      "cell_type": "code",
      "source": [
        "print(X)"
      ],
      "metadata": {
        "id": "Imfwj4KDNE0I",
        "colab": {
          "base_uri": "https://localhost:8080/"
        },
        "outputId": "6c7deccb-24da-4515-d532-eeee7976fdac"
      },
      "execution_count": 5,
      "outputs": [
        {
          "output_type": "stream",
          "name": "stdout",
          "text": [
            "[[619 'France' 'Female' ... 1 1 101348.88]\n",
            " [608 'Spain' 'Female' ... 0 1 112542.58]\n",
            " [502 'France' 'Female' ... 1 0 113931.57]\n",
            " ...\n",
            " [709 'France' 'Female' ... 0 1 42085.58]\n",
            " [772 'Germany' 'Male' ... 1 0 92888.52]\n",
            " [792 'France' 'Female' ... 1 0 38190.78]]\n"
          ]
        }
      ]
    },
    {
      "cell_type": "markdown",
      "source": [
        "Import LabelEncoder from the sklearn.preprocessing library, then pass the values of the Gender column in its fit_transform function"
      ],
      "metadata": {
        "id": "m1kCWUtqD_1g"
      }
    },
    {
      "cell_type": "code",
      "source": [
        "from sklearn.preprocessing import LabelEncoder\n",
        "le = LabelEncoder()\n",
        "X[:, 2] = le.fit_transform(X[:, 2])"
      ],
      "metadata": {
        "id": "suslYXEeNHjq"
      },
      "execution_count": 6,
      "outputs": []
    },
    {
      "cell_type": "code",
      "source": [
        "print(X)"
      ],
      "metadata": {
        "id": "3ycd3N32NVxf",
        "colab": {
          "base_uri": "https://localhost:8080/"
        },
        "outputId": "bfb38cd1-0247-4197-ba2d-05d0b11860eb"
      },
      "execution_count": 7,
      "outputs": [
        {
          "output_type": "stream",
          "name": "stdout",
          "text": [
            "[[619 'France' 0 ... 1 1 101348.88]\n",
            " [608 'Spain' 0 ... 0 1 112542.58]\n",
            " [502 'France' 0 ... 1 0 113931.57]\n",
            " ...\n",
            " [709 'France' 0 ... 0 1 42085.58]\n",
            " [772 'Germany' 1 ... 1 0 92888.52]\n",
            " [792 'France' 0 ... 1 0 38190.78]]\n"
          ]
        }
      ]
    },
    {
      "cell_type": "markdown",
      "source": [
        "Import OneHotEncoder from the sklearn.preprocessing library to use on the Geography column"
      ],
      "metadata": {
        "id": "9D-rGACLNPJT"
      }
    },
    {
      "cell_type": "code",
      "source": [
        "from sklearn.compose import ColumnTransformer\n",
        "from sklearn.preprocessing import OneHotEncoder\n",
        "ct = ColumnTransformer(transformers=[('encoder', OneHotEncoder(), [1])], remainder= 'passthrough')\n",
        "X = np. array(ct.fit_transform(X))"
      ],
      "metadata": {
        "id": "8M8SJPyNNZKc"
      },
      "execution_count": 8,
      "outputs": []
    },
    {
      "cell_type": "code",
      "source": [
        "print(X)"
      ],
      "metadata": {
        "colab": {
          "base_uri": "https://localhost:8080/"
        },
        "id": "gU5a2Fq3ycws",
        "outputId": "f39de456-3dc3-455c-bab2-b0b797ae9d37"
      },
      "execution_count": 9,
      "outputs": [
        {
          "output_type": "stream",
          "name": "stdout",
          "text": [
            "[[1.0 0.0 0.0 ... 1 1 101348.88]\n",
            " [0.0 0.0 1.0 ... 0 1 112542.58]\n",
            " [1.0 0.0 0.0 ... 1 0 113931.57]\n",
            " ...\n",
            " [1.0 0.0 0.0 ... 0 1 42085.58]\n",
            " [0.0 1.0 0.0 ... 1 0 92888.52]\n",
            " [1.0 0.0 0.0 ... 1 0 38190.78]]\n"
          ]
        }
      ]
    },
    {
      "cell_type": "markdown",
      "source": [
        "Split into training and testing sets for independent and dependent variables"
      ],
      "metadata": {
        "id": "Thd01U7VEkzG"
      }
    },
    {
      "cell_type": "code",
      "source": [
        "from sklearn.model_selection import train_test_split\n",
        "X_train, X_test, y_train, y_test = train_test_split(X, y, test_size = 0.25, random_state = 0)"
      ],
      "metadata": {
        "id": "BrDUDiKIyc3Y"
      },
      "execution_count": 10,
      "outputs": []
    },
    {
      "cell_type": "markdown",
      "source": [
        "Import StandardScaler to be able to use the fit_transform() and transform() functions. Use feature scaling when building neural network related models"
      ],
      "metadata": {
        "id": "gAQRshU7OxRi"
      }
    },
    {
      "cell_type": "code",
      "source": [
        "from sklearn.preprocessing import StandardScaler\n",
        "sc = StandardScaler()\n",
        "X_train = sc.fit_transform(X_train)\n",
        "X_test = sc. transform(X_test)"
      ],
      "metadata": {
        "id": "_Otbo2JNyc-b"
      },
      "execution_count": 11,
      "outputs": []
    },
    {
      "cell_type": "markdown",
      "source": [
        "Use Sequential class to initialize the artificial neural network"
      ],
      "metadata": {
        "id": "SMhsN6CCQ0ul"
      }
    },
    {
      "cell_type": "code",
      "source": [
        "ann = tf.keras.models.Sequential()"
      ],
      "metadata": {
        "id": "qEO0sW_RydEl"
      },
      "execution_count": 12,
      "outputs": []
    },
    {
      "cell_type": "markdown",
      "source": [
        "Add the input layer and the first hidden layer using the add() method. Inside the add method use the Dense class and specify the number of neurons and type of activation function as parameters."
      ],
      "metadata": {
        "id": "19pV1_GORndm"
      }
    },
    {
      "cell_type": "code",
      "source": [
        "ann.add(tf.keras.layers.Dense(units=6, activation='relu'))"
      ],
      "metadata": {
        "id": "pRxut0p0ydLJ"
      },
      "execution_count": 13,
      "outputs": []
    },
    {
      "cell_type": "markdown",
      "source": [
        "Add the second hidden layer using the same function and class"
      ],
      "metadata": {
        "id": "1zQwJ8YeSKCL"
      }
    },
    {
      "cell_type": "code",
      "source": [
        "ann.add(tf.keras.layers.Dense(units=6, activation='relu'))"
      ],
      "metadata": {
        "id": "KektLHs6ydRN"
      },
      "execution_count": 14,
      "outputs": []
    },
    {
      "cell_type": "markdown",
      "source": [
        "Add the output layer and specify the number of neurons as 1 since it is binary classification, and the activation function as sigmoid."
      ],
      "metadata": {
        "id": "J3UWUJq-ShQL"
      }
    },
    {
      "cell_type": "code",
      "source": [
        "ann.add(tf.keras.layers.Dense(units=1, activation='sigmoid'))"
      ],
      "metadata": {
        "id": "4y-SxP4WydYA"
      },
      "execution_count": 15,
      "outputs": []
    },
    {
      "cell_type": "markdown",
      "source": [
        "Compile the ANN using the compile() method, and specify the optimizer, loss function and metrics parameters. The loss function calculates the difference between the predicted and actual values."
      ],
      "metadata": {
        "id": "9RTqlfhGTTcd"
      }
    },
    {
      "cell_type": "code",
      "source": [
        "ann.compile(optimizer =\"adam\" , loss = 'binary_crossentropy', metrics = ['accuracy'])"
      ],
      "metadata": {
        "id": "6svrHhRvydeM"
      },
      "execution_count": 16,
      "outputs": []
    },
    {
      "cell_type": "markdown",
      "source": [
        "Use the fit method to train the ANN on the training set. Specify the batch size to be 32 to compare data in batches. Also specify the epochs to be 100 to ensure the model learns through the 100 iterations."
      ],
      "metadata": {
        "id": "NhZnmFVoUPc3"
      }
    },
    {
      "cell_type": "code",
      "source": [
        "ann.fit(X_train, y_train, batch_size = 32, epochs = 100)"
      ],
      "metadata": {
        "colab": {
          "base_uri": "https://localhost:8080/"
        },
        "id": "tVhlftGjydkc",
        "outputId": "b94dfde9-801d-4956-d5d7-47781ca54c0b"
      },
      "execution_count": 17,
      "outputs": [
        {
          "output_type": "stream",
          "name": "stdout",
          "text": [
            "Epoch 1/100\n",
            "235/235 [==============================] - 2s 3ms/step - loss: 0.5922 - accuracy: 0.7305\n",
            "Epoch 2/100\n",
            "235/235 [==============================] - 1s 4ms/step - loss: 0.4808 - accuracy: 0.7965\n",
            "Epoch 3/100\n",
            "235/235 [==============================] - 1s 4ms/step - loss: 0.4481 - accuracy: 0.7969\n",
            "Epoch 4/100\n",
            "235/235 [==============================] - 1s 3ms/step - loss: 0.4359 - accuracy: 0.8011\n",
            "Epoch 5/100\n",
            "235/235 [==============================] - 1s 4ms/step - loss: 0.4290 - accuracy: 0.8069\n",
            "Epoch 6/100\n",
            "235/235 [==============================] - 1s 5ms/step - loss: 0.4228 - accuracy: 0.8143\n",
            "Epoch 7/100\n",
            "235/235 [==============================] - 1s 5ms/step - loss: 0.4167 - accuracy: 0.8181\n",
            "Epoch 8/100\n",
            "235/235 [==============================] - 1s 5ms/step - loss: 0.4099 - accuracy: 0.8239\n",
            "Epoch 9/100\n",
            "235/235 [==============================] - 1s 5ms/step - loss: 0.4026 - accuracy: 0.8284\n",
            "Epoch 10/100\n",
            "235/235 [==============================] - 1s 6ms/step - loss: 0.3938 - accuracy: 0.8332\n",
            "Epoch 11/100\n",
            "235/235 [==============================] - 1s 5ms/step - loss: 0.3829 - accuracy: 0.8379\n",
            "Epoch 12/100\n",
            "235/235 [==============================] - 2s 7ms/step - loss: 0.3717 - accuracy: 0.8463\n",
            "Epoch 13/100\n",
            "235/235 [==============================] - 1s 6ms/step - loss: 0.3624 - accuracy: 0.8500\n",
            "Epoch 14/100\n",
            "235/235 [==============================] - 1s 3ms/step - loss: 0.3564 - accuracy: 0.8529\n",
            "Epoch 15/100\n",
            "235/235 [==============================] - 1s 3ms/step - loss: 0.3519 - accuracy: 0.8556\n",
            "Epoch 16/100\n",
            "235/235 [==============================] - 1s 3ms/step - loss: 0.3486 - accuracy: 0.8579\n",
            "Epoch 17/100\n",
            "235/235 [==============================] - 1s 2ms/step - loss: 0.3455 - accuracy: 0.8583\n",
            "Epoch 18/100\n",
            "235/235 [==============================] - 0s 2ms/step - loss: 0.3443 - accuracy: 0.8604\n",
            "Epoch 19/100\n",
            "235/235 [==============================] - 0s 2ms/step - loss: 0.3423 - accuracy: 0.8596\n",
            "Epoch 20/100\n",
            "235/235 [==============================] - 0s 2ms/step - loss: 0.3415 - accuracy: 0.8607\n",
            "Epoch 21/100\n",
            "235/235 [==============================] - 0s 2ms/step - loss: 0.3403 - accuracy: 0.8601\n",
            "Epoch 22/100\n",
            "235/235 [==============================] - 0s 2ms/step - loss: 0.3394 - accuracy: 0.8601\n",
            "Epoch 23/100\n",
            "235/235 [==============================] - 0s 2ms/step - loss: 0.3387 - accuracy: 0.8604\n",
            "Epoch 24/100\n",
            "235/235 [==============================] - 0s 2ms/step - loss: 0.3379 - accuracy: 0.8615\n",
            "Epoch 25/100\n",
            "235/235 [==============================] - 0s 2ms/step - loss: 0.3378 - accuracy: 0.8595\n",
            "Epoch 26/100\n",
            "235/235 [==============================] - 0s 2ms/step - loss: 0.3372 - accuracy: 0.8607\n",
            "Epoch 27/100\n",
            "235/235 [==============================] - 0s 2ms/step - loss: 0.3369 - accuracy: 0.8608\n",
            "Epoch 28/100\n",
            "235/235 [==============================] - 0s 2ms/step - loss: 0.3367 - accuracy: 0.8599\n",
            "Epoch 29/100\n",
            "235/235 [==============================] - 0s 2ms/step - loss: 0.3364 - accuracy: 0.8604\n",
            "Epoch 30/100\n",
            "235/235 [==============================] - 0s 2ms/step - loss: 0.3359 - accuracy: 0.8608\n",
            "Epoch 31/100\n",
            "235/235 [==============================] - 0s 2ms/step - loss: 0.3358 - accuracy: 0.8609\n",
            "Epoch 32/100\n",
            "235/235 [==============================] - 0s 2ms/step - loss: 0.3353 - accuracy: 0.8616\n",
            "Epoch 33/100\n",
            "235/235 [==============================] - 0s 2ms/step - loss: 0.3352 - accuracy: 0.8619\n",
            "Epoch 34/100\n",
            "235/235 [==============================] - 0s 2ms/step - loss: 0.3352 - accuracy: 0.8596\n",
            "Epoch 35/100\n",
            "235/235 [==============================] - 1s 2ms/step - loss: 0.3350 - accuracy: 0.8619\n",
            "Epoch 36/100\n",
            "235/235 [==============================] - 1s 3ms/step - loss: 0.3348 - accuracy: 0.8611\n",
            "Epoch 37/100\n",
            "235/235 [==============================] - 1s 3ms/step - loss: 0.3345 - accuracy: 0.8620\n",
            "Epoch 38/100\n",
            "235/235 [==============================] - 1s 3ms/step - loss: 0.3345 - accuracy: 0.8617\n",
            "Epoch 39/100\n",
            "235/235 [==============================] - 1s 3ms/step - loss: 0.3345 - accuracy: 0.8611\n",
            "Epoch 40/100\n",
            "235/235 [==============================] - 1s 3ms/step - loss: 0.3339 - accuracy: 0.8616\n",
            "Epoch 41/100\n",
            "235/235 [==============================] - 1s 3ms/step - loss: 0.3341 - accuracy: 0.8603\n",
            "Epoch 42/100\n",
            "235/235 [==============================] - 1s 2ms/step - loss: 0.3340 - accuracy: 0.8603\n",
            "Epoch 43/100\n",
            "235/235 [==============================] - 1s 2ms/step - loss: 0.3339 - accuracy: 0.8616\n",
            "Epoch 44/100\n",
            "235/235 [==============================] - 1s 3ms/step - loss: 0.3335 - accuracy: 0.8633\n",
            "Epoch 45/100\n",
            "235/235 [==============================] - 1s 3ms/step - loss: 0.3338 - accuracy: 0.8615\n",
            "Epoch 46/100\n",
            "235/235 [==============================] - 1s 2ms/step - loss: 0.3338 - accuracy: 0.8613\n",
            "Epoch 47/100\n",
            "235/235 [==============================] - 1s 2ms/step - loss: 0.3333 - accuracy: 0.8628\n",
            "Epoch 48/100\n",
            "235/235 [==============================] - 0s 2ms/step - loss: 0.3330 - accuracy: 0.8613\n",
            "Epoch 49/100\n",
            "235/235 [==============================] - 0s 2ms/step - loss: 0.3332 - accuracy: 0.8611\n",
            "Epoch 50/100\n",
            "235/235 [==============================] - 0s 2ms/step - loss: 0.3332 - accuracy: 0.8611\n",
            "Epoch 51/100\n",
            "235/235 [==============================] - 0s 2ms/step - loss: 0.3330 - accuracy: 0.8616\n",
            "Epoch 52/100\n",
            "235/235 [==============================] - 0s 2ms/step - loss: 0.3328 - accuracy: 0.8632\n",
            "Epoch 53/100\n",
            "235/235 [==============================] - 0s 2ms/step - loss: 0.3332 - accuracy: 0.8600\n",
            "Epoch 54/100\n",
            "235/235 [==============================] - 0s 2ms/step - loss: 0.3327 - accuracy: 0.8644\n",
            "Epoch 55/100\n",
            "235/235 [==============================] - 0s 2ms/step - loss: 0.3327 - accuracy: 0.8609\n",
            "Epoch 56/100\n",
            "235/235 [==============================] - 0s 2ms/step - loss: 0.3329 - accuracy: 0.8624\n",
            "Epoch 57/100\n",
            "235/235 [==============================] - 0s 2ms/step - loss: 0.3326 - accuracy: 0.8603\n",
            "Epoch 58/100\n",
            "235/235 [==============================] - 0s 2ms/step - loss: 0.3325 - accuracy: 0.8616\n",
            "Epoch 59/100\n",
            "235/235 [==============================] - 0s 2ms/step - loss: 0.3325 - accuracy: 0.8623\n",
            "Epoch 60/100\n",
            "235/235 [==============================] - 0s 2ms/step - loss: 0.3325 - accuracy: 0.8624\n",
            "Epoch 61/100\n",
            "235/235 [==============================] - 0s 2ms/step - loss: 0.3321 - accuracy: 0.8635\n",
            "Epoch 62/100\n",
            "235/235 [==============================] - 0s 2ms/step - loss: 0.3329 - accuracy: 0.8616\n",
            "Epoch 63/100\n",
            "235/235 [==============================] - 0s 2ms/step - loss: 0.3324 - accuracy: 0.8628\n",
            "Epoch 64/100\n",
            "235/235 [==============================] - 0s 2ms/step - loss: 0.3322 - accuracy: 0.8613\n",
            "Epoch 65/100\n",
            "235/235 [==============================] - 0s 2ms/step - loss: 0.3323 - accuracy: 0.8609\n",
            "Epoch 66/100\n",
            "235/235 [==============================] - 0s 2ms/step - loss: 0.3322 - accuracy: 0.8633\n",
            "Epoch 67/100\n",
            "235/235 [==============================] - 0s 2ms/step - loss: 0.3320 - accuracy: 0.8629\n",
            "Epoch 68/100\n",
            "235/235 [==============================] - 1s 4ms/step - loss: 0.3317 - accuracy: 0.8625\n",
            "Epoch 69/100\n",
            "235/235 [==============================] - 0s 2ms/step - loss: 0.3322 - accuracy: 0.8624\n",
            "Epoch 70/100\n",
            "235/235 [==============================] - 1s 5ms/step - loss: 0.3318 - accuracy: 0.8636\n",
            "Epoch 71/100\n",
            "235/235 [==============================] - 1s 6ms/step - loss: 0.3318 - accuracy: 0.8639\n",
            "Epoch 72/100\n",
            "235/235 [==============================] - 1s 3ms/step - loss: 0.3319 - accuracy: 0.8641\n",
            "Epoch 73/100\n",
            "235/235 [==============================] - 1s 3ms/step - loss: 0.3313 - accuracy: 0.8641\n",
            "Epoch 74/100\n",
            "235/235 [==============================] - 1s 2ms/step - loss: 0.3316 - accuracy: 0.8627\n",
            "Epoch 75/100\n",
            "235/235 [==============================] - 1s 2ms/step - loss: 0.3314 - accuracy: 0.8635\n",
            "Epoch 76/100\n",
            "235/235 [==============================] - 1s 3ms/step - loss: 0.3315 - accuracy: 0.8631\n",
            "Epoch 77/100\n",
            "235/235 [==============================] - 1s 2ms/step - loss: 0.3310 - accuracy: 0.8660\n",
            "Epoch 78/100\n",
            "235/235 [==============================] - 1s 3ms/step - loss: 0.3316 - accuracy: 0.8645\n",
            "Epoch 79/100\n",
            "235/235 [==============================] - 1s 2ms/step - loss: 0.3313 - accuracy: 0.8649\n",
            "Epoch 80/100\n",
            "235/235 [==============================] - 1s 3ms/step - loss: 0.3313 - accuracy: 0.8648\n",
            "Epoch 81/100\n",
            "235/235 [==============================] - 1s 2ms/step - loss: 0.3310 - accuracy: 0.8632\n",
            "Epoch 82/100\n",
            "235/235 [==============================] - 0s 2ms/step - loss: 0.3308 - accuracy: 0.8644\n",
            "Epoch 83/100\n",
            "235/235 [==============================] - 0s 2ms/step - loss: 0.3310 - accuracy: 0.8632\n",
            "Epoch 84/100\n",
            "235/235 [==============================] - 0s 2ms/step - loss: 0.3312 - accuracy: 0.8649\n",
            "Epoch 85/100\n",
            "235/235 [==============================] - 0s 2ms/step - loss: 0.3310 - accuracy: 0.8653\n",
            "Epoch 86/100\n",
            "235/235 [==============================] - 0s 2ms/step - loss: 0.3311 - accuracy: 0.8635\n",
            "Epoch 87/100\n",
            "235/235 [==============================] - 0s 2ms/step - loss: 0.3308 - accuracy: 0.8640\n",
            "Epoch 88/100\n",
            "235/235 [==============================] - 0s 2ms/step - loss: 0.3310 - accuracy: 0.8640\n",
            "Epoch 89/100\n",
            "235/235 [==============================] - 0s 2ms/step - loss: 0.3310 - accuracy: 0.8641\n",
            "Epoch 90/100\n",
            "235/235 [==============================] - 0s 2ms/step - loss: 0.3304 - accuracy: 0.8653\n",
            "Epoch 91/100\n",
            "235/235 [==============================] - 0s 2ms/step - loss: 0.3308 - accuracy: 0.8660\n",
            "Epoch 92/100\n",
            "235/235 [==============================] - 0s 2ms/step - loss: 0.3304 - accuracy: 0.8631\n",
            "Epoch 93/100\n",
            "235/235 [==============================] - 0s 2ms/step - loss: 0.3307 - accuracy: 0.8635\n",
            "Epoch 94/100\n",
            "235/235 [==============================] - 0s 2ms/step - loss: 0.3306 - accuracy: 0.8643\n",
            "Epoch 95/100\n",
            "235/235 [==============================] - 0s 2ms/step - loss: 0.3307 - accuracy: 0.8636\n",
            "Epoch 96/100\n",
            "235/235 [==============================] - 0s 2ms/step - loss: 0.3305 - accuracy: 0.8641\n",
            "Epoch 97/100\n",
            "235/235 [==============================] - 0s 2ms/step - loss: 0.3308 - accuracy: 0.8652\n",
            "Epoch 98/100\n",
            "235/235 [==============================] - 0s 2ms/step - loss: 0.3304 - accuracy: 0.8639\n",
            "Epoch 99/100\n",
            "235/235 [==============================] - 0s 2ms/step - loss: 0.3309 - accuracy: 0.8637\n",
            "Epoch 100/100\n",
            "235/235 [==============================] - 0s 2ms/step - loss: 0.3303 - accuracy: 0.8640\n"
          ]
        },
        {
          "output_type": "execute_result",
          "data": {
            "text/plain": [
              "<keras.src.callbacks.History at 0x7913d80f6ec0>"
            ]
          },
          "metadata": {},
          "execution_count": 17
        }
      ]
    },
    {
      "cell_type": "markdown",
      "source": [
        "Use the model to predict if a customer with the following information will leave the bank. In this case the prediction is false, which means the customer will not leave the bank. Since the values were scaled when training the ANN, the same has to be done here"
      ],
      "metadata": {
        "id": "DYTCguMoVE-z"
      }
    },
    {
      "cell_type": "code",
      "source": [
        "print (ann.predict(sc.transform([[1, 0, 0, 600, 1, 40, 3, 60000, 2, 1, 1, 50000]])) > 0.5)"
      ],
      "metadata": {
        "colab": {
          "base_uri": "https://localhost:8080/"
        },
        "id": "gjssmZcwydq9",
        "outputId": "bcc56288-6093-4d8d-f163-9dd712219f9b"
      },
      "execution_count": 18,
      "outputs": [
        {
          "output_type": "stream",
          "name": "stdout",
          "text": [
            "1/1 [==============================] - 0s 83ms/step\n",
            "[[False]]\n"
          ]
        }
      ]
    },
    {
      "cell_type": "markdown",
      "source": [
        "To predict the test results, define the threshold value again, and use the concatenate() method to join together the y_pred and y_test columns."
      ],
      "metadata": {
        "id": "8f8gWI-nYCQq"
      }
    },
    {
      "cell_type": "code",
      "source": [
        "y_pred = ann.predict(X_test)\n",
        "y_pred = (y_pred > 0.5)\n",
        "print(np.concatenate((y_pred.reshape(len(y_pred),1), y_test.reshape(len(y_test),1)),1))"
      ],
      "metadata": {
        "colab": {
          "base_uri": "https://localhost:8080/"
        },
        "id": "NJ5f7-hEydxv",
        "outputId": "47a9f2ac-85bf-45d2-e348-7bc1234108d7"
      },
      "execution_count": 19,
      "outputs": [
        {
          "output_type": "stream",
          "name": "stdout",
          "text": [
            "79/79 [==============================] - 0s 1ms/step\n",
            "[[0 0]\n",
            " [0 1]\n",
            " [0 0]\n",
            " ...\n",
            " [0 0]\n",
            " [0 0]\n",
            " [0 0]]\n"
          ]
        }
      ]
    },
    {
      "cell_type": "markdown",
      "source": [
        "Generate the confusion matrix to display true and false positives/negatives. Then calculate the accuracy_score using y_test and y_pred."
      ],
      "metadata": {
        "id": "cEpvYh5DEWJz"
      }
    },
    {
      "cell_type": "code",
      "source": [
        "from sklearn.metrics import confusion_matrix, accuracy_score\n",
        "conf_mat = confusion_matrix(y_test, y_pred)\n",
        "print(conf_mat)\n",
        "accuracy_score(y_test, y_pred)"
      ],
      "metadata": {
        "colab": {
          "base_uri": "https://localhost:8080/"
        },
        "id": "TWbI63rzyd4u",
        "outputId": "98ee170b-631b-4bf0-e535-cf7afe26f7ad"
      },
      "execution_count": 20,
      "outputs": [
        {
          "output_type": "stream",
          "name": "stdout",
          "text": [
            "[[1865  126]\n",
            " [ 236  273]]\n"
          ]
        },
        {
          "output_type": "execute_result",
          "data": {
            "text/plain": [
              "0.8552"
            ]
          },
          "metadata": {},
          "execution_count": 20
        }
      ]
    }
  ]
}